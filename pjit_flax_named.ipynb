{
  "nbformat": 4,
  "nbformat_minor": 0,
  "metadata": {
    "colab": {
      "provenance": [],
      "authorship_tag": "ABX9TyOPUJDUPF6FYytBrWWtFjhT",
      "include_colab_link": true
    },
    "kernelspec": {
      "name": "python3",
      "display_name": "Python 3"
    },
    "language_info": {
      "name": "python"
    }
  },
  "cells": [
    {
      "cell_type": "markdown",
      "metadata": {
        "id": "view-in-github",
        "colab_type": "text"
      },
      "source": [
        "<a href=\"https://colab.research.google.com/github/kaixih/JAX101/blob/master/pjit_flax_named.ipynb\" target=\"_parent\"><img src=\"https://colab.research.google.com/assets/colab-badge.svg\" alt=\"Open In Colab\"/></a>"
      ]
    },
    {
      "cell_type": "code",
      "execution_count": 1,
      "metadata": {
        "id": "CWCgcY0Tvz-_"
      },
      "outputs": [],
      "source": [
        "import os\n",
        "os.environ[\"XLA_FLAGS\"] = '--xla_force_host_platform_device_count=8'\n",
        "import jax\n",
        "\n",
        "from jax import lax, random, numpy as jnp\n",
        "\n",
        "import flax\n",
        "from flax import struct, traverse_util, linen as nn\n",
        "from flax.linen import spmd # Flax Linen SPMD."
      ]
    },
    {
      "cell_type": "code",
      "source": [
        "from jax.experimental.pjit import pjit, with_sharding_constraint\n",
        "from jax.sharding import Mesh, PartitionSpec\n",
        "from jax.experimental import mesh_utils\n",
        "\n",
        "# Start a device mesh.\n",
        "device_mesh = mesh_utils.create_device_mesh((4, 2))\n",
        "\n",
        "# Annotate each axis with a name.\n",
        "mesh = Mesh(devices=device_mesh, axis_names=('data', 'model'))\n",
        "mesh"
      ],
      "metadata": {
        "colab": {
          "base_uri": "https://localhost:8080/"
        },
        "id": "CVTnWM0bwCc6",
        "outputId": "62f7b445-399f-4bc1-f1c1-3f57c49cc585"
      },
      "execution_count": 2,
      "outputs": [
        {
          "output_type": "stream",
          "name": "stderr",
          "text": [
            "WARNING:jax._src.xla_bridge:No GPU/TPU found, falling back to CPU. (Set TF_CPP_MIN_LOG_LEVEL=0 and rerun for more info.)\n"
          ]
        },
        {
          "output_type": "execute_result",
          "data": {
            "text/plain": [
              "Mesh(device_ids=array([[0, 1],\n",
              "       [2, 3],\n",
              "       [4, 5],\n",
              "       [6, 7]]), axis_names=('data', 'model'))"
            ]
          },
          "metadata": {},
          "execution_count": 2
        }
      ]
    },
    {
      "cell_type": "code",
      "source": [
        "class SuperDot(nn.Module):\n",
        "  depth: int\n",
        "  max_history_length: int\n",
        "  @nn.compact\n",
        "  def __call__(self, x):\n",
        "    W1 = self.param(\n",
        "        'W1', \n",
        "        nn.with_partitioning(nn.initializers.xavier_normal(), (None, 'model')),\n",
        "        (x.shape[-1], self.depth))\n",
        "    x_max_history = self.param(\n",
        "        'x_max_history', \n",
        "        nn.with_partitioning(nn.initializers.zeros_init(), (None,)),\n",
        "        (self.max_history_length,))\n",
        "    w_max_history = self.param(\n",
        "        'w_max_history', \n",
        "        nn.with_partitioning(nn.initializers.zeros_init(), (None,)),\n",
        "        (self.max_history_length,))\n",
        "\n",
        "    y = jnp.dot(x, W1)\n",
        "    x_max = jnp.max(x, axis=(0, 1), keepdims=True)\n",
        "    w_max = jnp.max(W1, axis=(0, 1), keepdims=True)\n",
        "\n",
        "    return y, x_max, w_max"
      ],
      "metadata": {
        "id": "Ppd4zK6XwFl_"
      },
      "execution_count": 3,
      "outputs": []
    },
    {
      "cell_type": "code",
      "source": [
        "x = jax.random.normal(jax.random.PRNGKey(0), (8192, 8192))\n",
        "k = random.PRNGKey(0)\n",
        "\n",
        "model = SuperDot(8192, 16)"
      ],
      "metadata": {
        "id": "ELOgYCfnwT2c"
      },
      "execution_count": 4,
      "outputs": []
    },
    {
      "cell_type": "code",
      "source": [
        "# A functional way of model initialization.\n",
        "def init_fn(k, x):\n",
        "  variables = model.init(k, x) # Initialize the model.\n",
        "  return variables\n",
        "\n",
        "abstract_variables = jax.eval_shape(init_fn, k, x)\n",
        "# This `state_spec` has the same pytree structure as the output\n",
        "# of the `init_fn`.\n",
        "state_spec = nn.get_partition_spec(abstract_variables)\n",
        "state_spec"
      ],
      "metadata": {
        "colab": {
          "base_uri": "https://localhost:8080/"
        },
        "id": "Nt3-HlQ8xnFz",
        "outputId": "fc7bf055-5c0d-4f8f-cb32-6d90873a71a4"
      },
      "execution_count": 5,
      "outputs": [
        {
          "output_type": "execute_result",
          "data": {
            "text/plain": [
              "FrozenDict({\n",
              "    params: {\n",
              "        W1: PartitionSpec(None, 'model'),\n",
              "        w_max_history: PartitionSpec(None,),\n",
              "        x_max_history: PartitionSpec(None,),\n",
              "    },\n",
              "})"
            ]
          },
          "metadata": {},
          "execution_count": 5
        }
      ]
    },
    {
      "cell_type": "code",
      "source": [
        "pjit_init_fn = pjit(init_fn,\n",
        "                    in_axis_resources=(PartitionSpec(None), PartitionSpec('data', None)),  # PRNG key and x\n",
        "                    out_axis_resources=state_spec,  # params\n",
        "                    )\n",
        "# if in_axis_resources, we need mesh context\n",
        "with mesh:\n",
        "  initialized_state = pjit_init_fn(k, x)\n",
        "jax.tree_map(jnp.shape, initialized_state)"
      ],
      "metadata": {
        "colab": {
          "base_uri": "https://localhost:8080/"
        },
        "id": "Ft9W197Cx50B",
        "outputId": "e944f852-df31-43a7-d1cf-d1188476db5b"
      },
      "execution_count": 6,
      "outputs": [
        {
          "output_type": "execute_result",
          "data": {
            "text/plain": [
              "FrozenDict({\n",
              "    params: {\n",
              "        W1: Partitioned(value=(8192, 8192), names=(None, 'model'), mesh=None),\n",
              "        w_max_history: Partitioned(value=(16,), names=(None,), mesh=None),\n",
              "        x_max_history: Partitioned(value=(16,), names=(None,), mesh=None),\n",
              "    },\n",
              "})"
            ]
          },
          "metadata": {},
          "execution_count": 6
        }
      ]
    },
    {
      "cell_type": "code",
      "source": [
        "print(initialized_state['params']['W1'].value.sharding)\n",
        "print(initialized_state['params']['x_max_history'].value.sharding)\n",
        "print(initialized_state['params']['w_max_history'].value.sharding)"
      ],
      "metadata": {
        "colab": {
          "base_uri": "https://localhost:8080/"
        },
        "id": "vYEDX0BU18IV",
        "outputId": "df4e5218-58c3-4da5-ecae-f1f51a694473"
      },
      "execution_count": 7,
      "outputs": [
        {
          "output_type": "stream",
          "name": "stdout",
          "text": [
            "GSPMDSharding({devices=[1,2,4]0,2,4,6,1,3,5,7 last_tile_dim_replicate})\n",
            "GSPMDSharding({replicated})\n",
            "GSPMDSharding({replicated})\n"
          ]
        }
      ]
    },
    {
      "cell_type": "code",
      "source": [
        "def infer_step(state, x):\n",
        "  y, x_max, w_max = model.apply({'params': state['params']}, x)\n",
        "  # Update the initialized_state['params']['x_max_history'] with x_max.\n",
        "  # Update the initialized_state['params']['w_max_history'] with w_max.\n",
        "  return y, x_max, w_max\n",
        "\n",
        "pjit_step_fn = pjit(infer_step,\n",
        "                    in_axis_resources=(state_spec, PartitionSpec('data', None)),  # params and x\n",
        "                    out_axis_resources=(PartitionSpec('data', 'model'), PartitionSpec(None), PartitionSpec(None))  # y and max\n",
        "                    )\n",
        "with mesh:\n",
        "  y, x_max, w_max = pjit_step_fn(initialized_state, x)\n",
        "print('y sharding:')\n",
        "jax.debug.visualize_array_sharding(y)\n",
        "print('x_max sharding:')\n",
        "jax.debug.visualize_array_sharding(x_max)\n",
        "print('w_max sharding:')\n",
        "jax.debug.visualize_array_sharding(w_max)"
      ],
      "metadata": {
        "colab": {
          "base_uri": "https://localhost:8080/",
          "height": 647
        },
        "id": "NyAV23hx_h88",
        "outputId": "25b8daa2-efc6-46cd-cd7f-7565fddbf0a5"
      },
      "execution_count": 8,
      "outputs": [
        {
          "output_type": "stream",
          "name": "stdout",
          "text": [
            "y sharding:\n"
          ]
        },
        {
          "output_type": "display_data",
          "data": {
            "text/plain": [
              "\u001b[38;2;255;255;255;48;2;57;59;121m            \u001b[0m\u001b[38;2;255;255;255;48;2;214;97;107m            \u001b[0m\n",
              "\u001b[38;2;255;255;255;48;2;57;59;121m   \u001b[0m\u001b[38;2;255;255;255;48;2;57;59;121mCPU 0\u001b[0m\u001b[38;2;255;255;255;48;2;57;59;121m    \u001b[0m\u001b[38;2;255;255;255;48;2;214;97;107m   \u001b[0m\u001b[38;2;255;255;255;48;2;214;97;107mCPU 1\u001b[0m\u001b[38;2;255;255;255;48;2;214;97;107m    \u001b[0m\n",
              "\u001b[38;2;255;255;255;48;2;57;59;121m            \u001b[0m\u001b[38;2;255;255;255;48;2;214;97;107m            \u001b[0m\n",
              "\u001b[38;2;255;255;255;48;2;140;162;82m            \u001b[0m\u001b[38;2;255;255;255;48;2;222;158;214m            \u001b[0m\n",
              "\u001b[38;2;255;255;255;48;2;140;162;82m   \u001b[0m\u001b[38;2;255;255;255;48;2;140;162;82mCPU 2\u001b[0m\u001b[38;2;255;255;255;48;2;140;162;82m    \u001b[0m\u001b[38;2;255;255;255;48;2;222;158;214m   \u001b[0m\u001b[38;2;255;255;255;48;2;222;158;214mCPU 3\u001b[0m\u001b[38;2;255;255;255;48;2;222;158;214m    \u001b[0m\n",
              "\u001b[38;2;255;255;255;48;2;140;162;82m            \u001b[0m\u001b[38;2;255;255;255;48;2;222;158;214m            \u001b[0m\n",
              "\u001b[38;2;0;0;0;48;2;231;203;148m            \u001b[0m\u001b[38;2;255;255;255;48;2;107;110;207m            \u001b[0m\n",
              "\u001b[38;2;0;0;0;48;2;231;203;148m   \u001b[0m\u001b[38;2;0;0;0;48;2;231;203;148mCPU 4\u001b[0m\u001b[38;2;0;0;0;48;2;231;203;148m    \u001b[0m\u001b[38;2;255;255;255;48;2;107;110;207m   \u001b[0m\u001b[38;2;255;255;255;48;2;107;110;207mCPU 5\u001b[0m\u001b[38;2;255;255;255;48;2;107;110;207m    \u001b[0m\n",
              "\u001b[38;2;0;0;0;48;2;231;203;148m            \u001b[0m\u001b[38;2;255;255;255;48;2;107;110;207m            \u001b[0m\n",
              "\u001b[38;2;255;255;255;48;2;165;81;148m            \u001b[0m\u001b[38;2;255;255;255;48;2;140;109;49m            \u001b[0m\n",
              "\u001b[38;2;255;255;255;48;2;165;81;148m   \u001b[0m\u001b[38;2;255;255;255;48;2;165;81;148mCPU 6\u001b[0m\u001b[38;2;255;255;255;48;2;165;81;148m    \u001b[0m\u001b[38;2;255;255;255;48;2;140;109;49m   \u001b[0m\u001b[38;2;255;255;255;48;2;140;109;49mCPU 7\u001b[0m\u001b[38;2;255;255;255;48;2;140;109;49m    \u001b[0m\n",
              "\u001b[38;2;255;255;255;48;2;165;81;148m            \u001b[0m\u001b[38;2;255;255;255;48;2;140;109;49m            \u001b[0m\n"
            ],
            "text/html": [
              "<pre style=\"white-space:pre;overflow-x:auto;line-height:normal;font-family:Menlo,'DejaVu Sans Mono',consolas,'Courier New',monospace\"><span style=\"color: #ffffff; text-decoration-color: #ffffff; background-color: #393b79\">            </span><span style=\"color: #ffffff; text-decoration-color: #ffffff; background-color: #d6616b\">            </span>\n",
              "<span style=\"color: #ffffff; text-decoration-color: #ffffff; background-color: #393b79\">   CPU 0    </span><span style=\"color: #ffffff; text-decoration-color: #ffffff; background-color: #d6616b\">   CPU 1    </span>\n",
              "<span style=\"color: #ffffff; text-decoration-color: #ffffff; background-color: #393b79\">            </span><span style=\"color: #ffffff; text-decoration-color: #ffffff; background-color: #d6616b\">            </span>\n",
              "<span style=\"color: #ffffff; text-decoration-color: #ffffff; background-color: #8ca252\">            </span><span style=\"color: #ffffff; text-decoration-color: #ffffff; background-color: #de9ed6\">            </span>\n",
              "<span style=\"color: #ffffff; text-decoration-color: #ffffff; background-color: #8ca252\">   CPU 2    </span><span style=\"color: #ffffff; text-decoration-color: #ffffff; background-color: #de9ed6\">   CPU 3    </span>\n",
              "<span style=\"color: #ffffff; text-decoration-color: #ffffff; background-color: #8ca252\">            </span><span style=\"color: #ffffff; text-decoration-color: #ffffff; background-color: #de9ed6\">            </span>\n",
              "<span style=\"color: #000000; text-decoration-color: #000000; background-color: #e7cb94\">            </span><span style=\"color: #ffffff; text-decoration-color: #ffffff; background-color: #6b6ecf\">            </span>\n",
              "<span style=\"color: #000000; text-decoration-color: #000000; background-color: #e7cb94\">   CPU 4    </span><span style=\"color: #ffffff; text-decoration-color: #ffffff; background-color: #6b6ecf\">   CPU 5    </span>\n",
              "<span style=\"color: #000000; text-decoration-color: #000000; background-color: #e7cb94\">            </span><span style=\"color: #ffffff; text-decoration-color: #ffffff; background-color: #6b6ecf\">            </span>\n",
              "<span style=\"color: #ffffff; text-decoration-color: #ffffff; background-color: #a55194\">            </span><span style=\"color: #ffffff; text-decoration-color: #ffffff; background-color: #8c6d31\">            </span>\n",
              "<span style=\"color: #ffffff; text-decoration-color: #ffffff; background-color: #a55194\">   CPU 6    </span><span style=\"color: #ffffff; text-decoration-color: #ffffff; background-color: #8c6d31\">   CPU 7    </span>\n",
              "<span style=\"color: #ffffff; text-decoration-color: #ffffff; background-color: #a55194\">            </span><span style=\"color: #ffffff; text-decoration-color: #ffffff; background-color: #8c6d31\">            </span>\n",
              "</pre>\n"
            ]
          },
          "metadata": {}
        },
        {
          "output_type": "stream",
          "name": "stdout",
          "text": [
            "x_max sharding:\n"
          ]
        },
        {
          "output_type": "display_data",
          "data": {
            "text/plain": [
              "\u001b[38;2;255;255;255;48;2;57;59;121m                         \u001b[0m\n",
              "\u001b[38;2;255;255;255;48;2;57;59;121m                         \u001b[0m\n",
              "\u001b[38;2;255;255;255;48;2;57;59;121m                         \u001b[0m\n",
              "\u001b[38;2;255;255;255;48;2;57;59;121m                         \u001b[0m\n",
              "\u001b[38;2;255;255;255;48;2;57;59;121m                         \u001b[0m\n",
              "\u001b[38;2;255;255;255;48;2;57;59;121m   \u001b[0m\u001b[38;2;255;255;255;48;2;57;59;121mCPU 0,1,2,3,4,5,6,7\u001b[0m\u001b[38;2;255;255;255;48;2;57;59;121m   \u001b[0m\n",
              "\u001b[38;2;255;255;255;48;2;57;59;121m                         \u001b[0m\n",
              "\u001b[38;2;255;255;255;48;2;57;59;121m                         \u001b[0m\n",
              "\u001b[38;2;255;255;255;48;2;57;59;121m                         \u001b[0m\n",
              "\u001b[38;2;255;255;255;48;2;57;59;121m                         \u001b[0m\n",
              "\u001b[38;2;255;255;255;48;2;57;59;121m                         \u001b[0m\n"
            ],
            "text/html": [
              "<pre style=\"white-space:pre;overflow-x:auto;line-height:normal;font-family:Menlo,'DejaVu Sans Mono',consolas,'Courier New',monospace\"><span style=\"color: #ffffff; text-decoration-color: #ffffff; background-color: #393b79\">                         </span>\n",
              "<span style=\"color: #ffffff; text-decoration-color: #ffffff; background-color: #393b79\">                         </span>\n",
              "<span style=\"color: #ffffff; text-decoration-color: #ffffff; background-color: #393b79\">                         </span>\n",
              "<span style=\"color: #ffffff; text-decoration-color: #ffffff; background-color: #393b79\">                         </span>\n",
              "<span style=\"color: #ffffff; text-decoration-color: #ffffff; background-color: #393b79\">                         </span>\n",
              "<span style=\"color: #ffffff; text-decoration-color: #ffffff; background-color: #393b79\">   CPU 0,1,2,3,4,5,6,7   </span>\n",
              "<span style=\"color: #ffffff; text-decoration-color: #ffffff; background-color: #393b79\">                         </span>\n",
              "<span style=\"color: #ffffff; text-decoration-color: #ffffff; background-color: #393b79\">                         </span>\n",
              "<span style=\"color: #ffffff; text-decoration-color: #ffffff; background-color: #393b79\">                         </span>\n",
              "<span style=\"color: #ffffff; text-decoration-color: #ffffff; background-color: #393b79\">                         </span>\n",
              "<span style=\"color: #ffffff; text-decoration-color: #ffffff; background-color: #393b79\">                         </span>\n",
              "</pre>\n"
            ]
          },
          "metadata": {}
        },
        {
          "output_type": "stream",
          "name": "stdout",
          "text": [
            "w_max sharding:\n"
          ]
        },
        {
          "output_type": "display_data",
          "data": {
            "text/plain": [
              "\u001b[38;2;255;255;255;48;2;57;59;121m                         \u001b[0m\n",
              "\u001b[38;2;255;255;255;48;2;57;59;121m                         \u001b[0m\n",
              "\u001b[38;2;255;255;255;48;2;57;59;121m                         \u001b[0m\n",
              "\u001b[38;2;255;255;255;48;2;57;59;121m                         \u001b[0m\n",
              "\u001b[38;2;255;255;255;48;2;57;59;121m                         \u001b[0m\n",
              "\u001b[38;2;255;255;255;48;2;57;59;121m   \u001b[0m\u001b[38;2;255;255;255;48;2;57;59;121mCPU 0,1,2,3,4,5,6,7\u001b[0m\u001b[38;2;255;255;255;48;2;57;59;121m   \u001b[0m\n",
              "\u001b[38;2;255;255;255;48;2;57;59;121m                         \u001b[0m\n",
              "\u001b[38;2;255;255;255;48;2;57;59;121m                         \u001b[0m\n",
              "\u001b[38;2;255;255;255;48;2;57;59;121m                         \u001b[0m\n",
              "\u001b[38;2;255;255;255;48;2;57;59;121m                         \u001b[0m\n",
              "\u001b[38;2;255;255;255;48;2;57;59;121m                         \u001b[0m\n"
            ],
            "text/html": [
              "<pre style=\"white-space:pre;overflow-x:auto;line-height:normal;font-family:Menlo,'DejaVu Sans Mono',consolas,'Courier New',monospace\"><span style=\"color: #ffffff; text-decoration-color: #ffffff; background-color: #393b79\">                         </span>\n",
              "<span style=\"color: #ffffff; text-decoration-color: #ffffff; background-color: #393b79\">                         </span>\n",
              "<span style=\"color: #ffffff; text-decoration-color: #ffffff; background-color: #393b79\">                         </span>\n",
              "<span style=\"color: #ffffff; text-decoration-color: #ffffff; background-color: #393b79\">                         </span>\n",
              "<span style=\"color: #ffffff; text-decoration-color: #ffffff; background-color: #393b79\">                         </span>\n",
              "<span style=\"color: #ffffff; text-decoration-color: #ffffff; background-color: #393b79\">   CPU 0,1,2,3,4,5,6,7   </span>\n",
              "<span style=\"color: #ffffff; text-decoration-color: #ffffff; background-color: #393b79\">                         </span>\n",
              "<span style=\"color: #ffffff; text-decoration-color: #ffffff; background-color: #393b79\">                         </span>\n",
              "<span style=\"color: #ffffff; text-decoration-color: #ffffff; background-color: #393b79\">                         </span>\n",
              "<span style=\"color: #ffffff; text-decoration-color: #ffffff; background-color: #393b79\">                         </span>\n",
              "<span style=\"color: #ffffff; text-decoration-color: #ffffff; background-color: #393b79\">                         </span>\n",
              "</pre>\n"
            ]
          },
          "metadata": {}
        }
      ]
    },
    {
      "cell_type": "code",
      "source": [
        "with mesh:\n",
        "  lowered = pjit_step_fn.lower(initialized_state, x)\n",
        "compiled = lowered.compile().compiler_ir()"
      ],
      "metadata": {
        "id": "LG9VHJBLA5nb"
      },
      "execution_count": 9,
      "outputs": []
    },
    {
      "cell_type": "code",
      "source": [
        "for module in compiled:\n",
        "  print(module.to_string())"
      ],
      "metadata": {
        "colab": {
          "base_uri": "https://localhost:8080/"
        },
        "id": "uXnyTpg5BF21",
        "outputId": "e6845770-0378-47f1-b21e-188bf45333f3"
      },
      "execution_count": 10,
      "outputs": [
        {
          "output_type": "stream",
          "name": "stdout",
          "text": [
            "HloModule pjit_infer_step, entry_computation_layout={(f32[8192,4096]{1,0},f32[2048,8192]{1,0})->(f32[2048,4096]{1,0}, f32[1,1]{1,0}, f32[1,1]{1,0})}, allow_spmd_sharding_propagation_to_output={false,false,false}\n",
            "\n",
            "%region_0.6 (Arg_0.7: f32[], Arg_1.8: f32[]) -> f32[] {\n",
            "  %Arg_0.7 = f32[] parameter(0)\n",
            "  %Arg_1.8 = f32[] parameter(1)\n",
            "  ROOT %maximum.9 = f32[] maximum(f32[] %Arg_0.7, f32[] %Arg_1.8), metadata={op_name=\"pjit(infer_step)/jit(main)/SuperDot/reduce_max[axes=(0, 1)]\" source_file=\"<ipython-input-3-af29075b2a20>\" source_line=20}\n",
            "}\n",
            "\n",
            "%region_1.12 (Arg_0.13: f32[], Arg_1.14: f32[]) -> f32[] {\n",
            "  %Arg_0.13 = f32[] parameter(0)\n",
            "  %Arg_1.14 = f32[] parameter(1)\n",
            "  ROOT %maximum.15 = f32[] maximum(f32[] %Arg_0.13, f32[] %Arg_1.14), metadata={op_name=\"pjit(infer_step)/jit(main)/SuperDot/reduce_max[axes=(0, 1)]\" source_file=\"<ipython-input-3-af29075b2a20>\" source_line=20}\n",
            "}\n",
            "\n",
            "ENTRY %main.22_spmd (param.1: f32[8192,4096], param: f32[2048,8192]) -> (f32[2048,4096], f32[1,1], f32[1,1]) {\n",
            "  %param = f32[2048,8192]{1,0} parameter(1), sharding={devices=[4,1,2]0,1,2,3,4,5,6,7 last_tile_dim_replicate}\n",
            "  %param.1 = f32[8192,4096]{1,0} parameter(0), sharding={devices=[1,2,4]0,2,4,6,1,3,5,7 last_tile_dim_replicate}, metadata={op_name=\"pjit(infer_step)/jit(main)/SuperDot/sharding_constraint[sharding=GSPMDSharding({devices=[1,2,4]0,2,4,6,1,3,5,7 last_tile_dim_replicate}) resource_env=ResourceEnv(Mesh(device_ids=array([[0, 1],\\n       [2, 3],\\n       [4, 5],\\n       [6, 7]]), axis_names=(\\'data\\', \\'model\\')), ()) unconstrained_dims=set()]\" source_file=\"/usr/local/lib/python3.9/dist-packages/flax/core/meta.py\" source_line=243}\n",
            "  %dot = f32[2048,4096]{1,0} dot(f32[2048,8192]{1,0} %param, f32[8192,4096]{1,0} %param.1), lhs_contracting_dims={1}, rhs_contracting_dims={0}, metadata={op_name=\"pjit(infer_step)/jit(main)/SuperDot/dot_general[dimension_numbers=(((1,), (0,)), ((), ())) precision=None preferred_element_type=None]\" source_file=\"<ipython-input-3-af29075b2a20>\" source_line=19}\n",
            "  %constant.1 = f32[] constant(-inf)\n",
            "  %reduce-window = f32[64,256]{1,0} reduce-window(f32[2048,8192]{1,0} %param, f32[] %constant.1), window={size=32x32 stride=32x32}, to_apply=%region_0.6\n",
            "  %reduce-window.2 = f32[2,8]{1,0} reduce-window(f32[64,256]{1,0} %reduce-window, f32[] %constant.1), window={size=32x32 stride=32x32}, to_apply=%region_0.6\n",
            "  %reduce = f32[] reduce(f32[2,8]{1,0} %reduce-window.2, f32[] %constant.1), dimensions={0,1}, to_apply=%region_0.6, metadata={op_name=\"pjit(infer_step)/jit(main)/SuperDot/reduce_max[axes=(0, 1)]\" source_file=\"<ipython-input-3-af29075b2a20>\" source_line=20}\n",
            "  %all-reduce = f32[] all-reduce(f32[] %reduce), channel_id=1, replica_groups={{0,2,4,6},{1,3,5,7}}, use_global_device_ids=true, to_apply=%region_0.6, metadata={op_name=\"pjit(infer_step)/jit(main)/SuperDot/reduce_max[axes=(0, 1)]\" source_file=\"<ipython-input-3-af29075b2a20>\" source_line=20}\n",
            "  %bitcast = f32[1,1]{1,0} bitcast(f32[] %all-reduce), metadata={op_name=\"pjit(infer_step)/jit(main)/SuperDot/broadcast_in_dim[shape=(1, 1) broadcast_dimensions=()]\" source_file=\"<ipython-input-3-af29075b2a20>\" source_line=20}\n",
            "  %reduce-window.1 = f32[256,128]{1,0} reduce-window(f32[8192,4096]{1,0} %param.1, f32[] %constant.1), window={size=32x32 stride=32x32}, to_apply=%region_1.12\n",
            "  %reduce-window.3 = f32[8,4]{1,0} reduce-window(f32[256,128]{1,0} %reduce-window.1, f32[] %constant.1), window={size=32x32 stride=32x32}, to_apply=%region_1.12\n",
            "  %reduce.1 = f32[] reduce(f32[8,4]{1,0} %reduce-window.3, f32[] %constant.1), dimensions={0,1}, to_apply=%region_1.12, metadata={op_name=\"pjit(infer_step)/jit(main)/SuperDot/reduce_max[axes=(0, 1)]\" source_file=\"<ipython-input-3-af29075b2a20>\" source_line=20}\n",
            "  %all-reduce.1 = f32[] all-reduce(f32[] %reduce.1), channel_id=2, replica_groups={{0,1},{2,3},{4,5},{6,7}}, use_global_device_ids=true, to_apply=%region_1.12, metadata={op_name=\"pjit(infer_step)/jit(main)/SuperDot/reduce_max[axes=(0, 1)]\" source_file=\"<ipython-input-3-af29075b2a20>\" source_line=20}\n",
            "  %bitcast.1 = f32[1,1]{1,0} bitcast(f32[] %all-reduce.1), metadata={op_name=\"pjit(infer_step)/jit(main)/SuperDot/broadcast_in_dim[shape=(1, 1) broadcast_dimensions=()]\" source_file=\"<ipython-input-3-af29075b2a20>\" source_line=20}\n",
            "  ROOT %tuple = (f32[2048,4096]{1,0}, f32[1,1]{1,0}, f32[1,1]{1,0}) tuple(f32[2048,4096]{1,0} %dot, f32[1,1]{1,0} %bitcast, f32[1,1]{1,0} %bitcast.1)\n",
            "}\n",
            "\n",
            "\n"
          ]
        }
      ]
    }
  ]
}