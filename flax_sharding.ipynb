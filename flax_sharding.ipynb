{
  "nbformat": 4,
  "nbformat_minor": 0,
  "metadata": {
    "colab": {
      "provenance": [],
      "authorship_tag": "ABX9TyPcvY8g05Qqz2qowqhkC3I6",
      "include_colab_link": true
    },
    "kernelspec": {
      "name": "python3",
      "display_name": "Python 3"
    },
    "language_info": {
      "name": "python"
    }
  },
  "cells": [
    {
      "cell_type": "markdown",
      "metadata": {
        "id": "view-in-github",
        "colab_type": "text"
      },
      "source": [
        "<a href=\"https://colab.research.google.com/github/kaixih/JAX101/blob/master/flax_sharding.ipynb\" target=\"_parent\"><img src=\"https://colab.research.google.com/assets/colab-badge.svg\" alt=\"Open In Colab\"/></a>"
      ]
    },
    {
      "cell_type": "code",
      "execution_count": 4,
      "metadata": {
        "id": "ykrrDNwf9xbh"
      },
      "outputs": [],
      "source": [
        "import os\n",
        "os.environ[\"XLA_FLAGS\"] = '--xla_force_host_platform_device_count=8'\n",
        "\n",
        "from jax.experimental import mesh_utils\n",
        "from jax.sharding import Mesh, PartitionSpec"
      ]
    },
    {
      "cell_type": "code",
      "source": [
        "# Start a device mesh.\n",
        "device_mesh = mesh_utils.create_device_mesh((4, 2))\n",
        "print(device_mesh)\n",
        "# Annotate each axis with a name.\n",
        "mesh = Mesh(devices=device_mesh, axis_names=('data', 'model'))\n",
        "mesh"
      ],
      "metadata": {
        "colab": {
          "base_uri": "https://localhost:8080/"
        },
        "id": "Aqs8alh3-l33",
        "outputId": "2a4a0fa6-e4c4-4e21-9689-338a0ad6671e"
      },
      "execution_count": 6,
      "outputs": [
        {
          "output_type": "stream",
          "name": "stdout",
          "text": [
            "[[CpuDevice(id=0) CpuDevice(id=1)]\n",
            " [CpuDevice(id=2) CpuDevice(id=3)]\n",
            " [CpuDevice(id=4) CpuDevice(id=5)]\n",
            " [CpuDevice(id=6) CpuDevice(id=7)]]\n"
          ]
        },
        {
          "output_type": "execute_result",
          "data": {
            "text/plain": [
              "Mesh(device_ids=array([[0, 1],\n",
              "       [2, 3],\n",
              "       [4, 5],\n",
              "       [6, 7]]), axis_names=('data', 'model'))"
            ]
          },
          "metadata": {},
          "execution_count": 6
        }
      ]
    }
  ]
}