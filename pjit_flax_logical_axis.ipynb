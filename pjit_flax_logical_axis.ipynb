{
  "nbformat": 4,
  "nbformat_minor": 0,
  "metadata": {
    "colab": {
      "provenance": [],
      "authorship_tag": "ABX9TyPAvZrC2RK3bvhGEs0xH8Jh",
      "include_colab_link": true
    },
    "kernelspec": {
      "name": "python3",
      "display_name": "Python 3"
    },
    "language_info": {
      "name": "python"
    }
  },
  "cells": [
    {
      "cell_type": "markdown",
      "metadata": {
        "id": "view-in-github",
        "colab_type": "text"
      },
      "source": [
        "<a href=\"https://colab.research.google.com/github/kaixih/JAX101/blob/master/pjit_flax_logical_axis.ipynb\" target=\"_parent\"><img src=\"https://colab.research.google.com/assets/colab-badge.svg\" alt=\"Open In Colab\"/></a>"
      ]
    },
    {
      "cell_type": "code",
      "execution_count": 1,
      "metadata": {
        "id": "WAC1aOY8PAGQ"
      },
      "outputs": [],
      "source": [
        "import os\n",
        "os.environ[\"XLA_FLAGS\"] = '--xla_force_host_platform_device_count=8'\n",
        "import jax\n",
        "\n",
        "from jax import lax, random, numpy as jnp\n",
        "\n",
        "import flax\n",
        "from flax import struct, traverse_util, linen as nn\n",
        "from flax.linen import spmd # Flax Linen SPMD."
      ]
    },
    {
      "cell_type": "code",
      "source": [
        "from jax.experimental.pjit import pjit, with_sharding_constraint\n",
        "from jax.sharding import Mesh, PartitionSpec\n",
        "from jax.experimental import mesh_utils\n",
        "\n",
        "# Start a device mesh.\n",
        "device_mesh = mesh_utils.create_device_mesh((4, 2))\n",
        "\n",
        "# Annotate each axis with a name.\n",
        "mesh = Mesh(devices=device_mesh, axis_names=('data', 'model'))\n",
        "mesh"
      ],
      "metadata": {
        "colab": {
          "base_uri": "https://localhost:8080/"
        },
        "id": "7TMOW0AZPJd_",
        "outputId": "9b33e459-6644-4899-f7c4-d2750bbe202c"
      },
      "execution_count": 2,
      "outputs": [
        {
          "output_type": "stream",
          "name": "stderr",
          "text": [
            "WARNING:jax._src.xla_bridge:No GPU/TPU found, falling back to CPU. (Set TF_CPP_MIN_LOG_LEVEL=0 and rerun for more info.)\n"
          ]
        },
        {
          "output_type": "execute_result",
          "data": {
            "text/plain": [
              "Mesh(device_ids=array([[0, 1],\n",
              "       [2, 3],\n",
              "       [4, 5],\n",
              "       [6, 7]]), axis_names=('data', 'model'))"
            ]
          },
          "metadata": {},
          "execution_count": 2
        }
      ]
    },
    {
      "cell_type": "code",
      "source": [
        "class SuperDot(nn.Module):\n",
        "  depth: int\n",
        "  max_history_length: int\n",
        "  @nn.compact\n",
        "  def __call__(self, x):\n",
        "    W1 = self.param(\n",
        "        'W1', \n",
        "        spmd.with_logical_partitioning(nn.initializers.xavier_normal(), ('embed', 'hidden')),\n",
        "        (x.shape[-1], self.depth))\n",
        "    x_max_history = self.param(\n",
        "        'x_max_history', \n",
        "        spmd.with_logical_partitioning(nn.initializers.zeros_init(), ('history_length',)),\n",
        "        (self.max_history_length,))\n",
        "    w_max_history = self.param(\n",
        "        'w_max_history', \n",
        "        spmd.with_logical_partitioning(nn.initializers.zeros_init(), ('history_length',)),\n",
        "        (self.max_history_length,))\n",
        "\n",
        "    y = jnp.dot(x, W1)\n",
        "    x_max = jnp.max(x, axis=(0, 1), keepdims=True)\n",
        "    w_max = jnp.max(W1, axis=(0, 1), keepdims=True)\n",
        "\n",
        "    return y, x_max, w_max"
      ],
      "metadata": {
        "id": "P5RYkEOzPLj_"
      },
      "execution_count": 3,
      "outputs": []
    },
    {
      "cell_type": "code",
      "source": [
        "x = jax.random.normal(jax.random.PRNGKey(0), (8192, 8192))\n",
        "k = random.PRNGKey(0)\n",
        "\n",
        "model = SuperDot(8192, 16)"
      ],
      "metadata": {
        "id": "Ccbs6mhCPuUb"
      },
      "execution_count": 4,
      "outputs": []
    },
    {
      "cell_type": "code",
      "source": [
        "# A functional way of model initialization.\n",
        "def init_fn(k, x):\n",
        "  variables = model.init(k, x) # Initialize the model.\n",
        "  return variables\n",
        "\n",
        "abstract_variables = jax.eval_shape(init_fn, k, x)\n",
        "# This `state_spec` has the same pytree structure as the output\n",
        "# of the `init_fn`.\n",
        "logical_output_spec = nn.get_partition_spec(abstract_variables)\n",
        "logical_output_spec"
      ],
      "metadata": {
        "colab": {
          "base_uri": "https://localhost:8080/"
        },
        "id": "d5Vf1u2CPwdR",
        "outputId": "2b8dca26-4c44-4823-a926-08ed9c6ac830"
      },
      "execution_count": 5,
      "outputs": [
        {
          "output_type": "execute_result",
          "data": {
            "text/plain": [
              "FrozenDict({\n",
              "    params: {\n",
              "        W1: PartitionSpec('embed', 'hidden'),\n",
              "        w_max_history: PartitionSpec('history_length',),\n",
              "        x_max_history: PartitionSpec('history_length',),\n",
              "    },\n",
              "})"
            ]
          },
          "metadata": {},
          "execution_count": 5
        }
      ]
    },
    {
      "cell_type": "code",
      "source": [
        "# Unspecified rule means unsharded by default, so no need to specify `('embed', None)` and `('layer', None)`.\n",
        "rules = (('batch', 'data'),\n",
        "         ('hidden', 'model'))\n",
        "\n",
        "logical_state_spec = spmd.logical_to_mesh(logical_output_spec, rules)\n",
        "logical_state_spec"
      ],
      "metadata": {
        "colab": {
          "base_uri": "https://localhost:8080/"
        },
        "id": "Xg6RgcYfP0vi",
        "outputId": "6f21f1c0-2bb3-4e64-bd99-0f9fb6f9102f"
      },
      "execution_count": 6,
      "outputs": [
        {
          "output_type": "execute_result",
          "data": {
            "text/plain": [
              "FrozenDict({\n",
              "    params: {\n",
              "        W1: PartitionSpec(None, 'model'),\n",
              "        w_max_history: PartitionSpec(None,),\n",
              "        x_max_history: PartitionSpec(None,),\n",
              "    },\n",
              "})"
            ]
          },
          "metadata": {},
          "execution_count": 6
        }
      ]
    },
    {
      "cell_type": "code",
      "source": [
        "pjit_init_fn = pjit(init_fn,\n",
        "                    in_axis_resources=(PartitionSpec(None), PartitionSpec('data', None)),  # PRNG key and x\n",
        "                    out_axis_resources=logical_state_spec,  # params\n",
        "                    )\n",
        "# if in_axis_resources, we need mesh context\n",
        "with mesh:\n",
        "  initialized_state = pjit_init_fn(k, x)\n",
        "jax.tree_map(jnp.shape, initialized_state)"
      ],
      "metadata": {
        "colab": {
          "base_uri": "https://localhost:8080/"
        },
        "id": "MkOnMFPeQCAh",
        "outputId": "bd386603-f4c2-4dea-eeea-765fb6329226"
      },
      "execution_count": 7,
      "outputs": [
        {
          "output_type": "execute_result",
          "data": {
            "text/plain": [
              "FrozenDict({\n",
              "    params: {\n",
              "        W1: LogicallyPartitioned(value=(8192, 8192), names=('embed', 'hidden'), mesh=None, rules=None),\n",
              "        w_max_history: LogicallyPartitioned(value=(16,), names=('history_length',), mesh=None, rules=None),\n",
              "        x_max_history: LogicallyPartitioned(value=(16,), names=('history_length',), mesh=None, rules=None),\n",
              "    },\n",
              "})"
            ]
          },
          "metadata": {},
          "execution_count": 7
        }
      ]
    },
    {
      "cell_type": "code",
      "source": [
        "print(initialized_state['params']['W1'].value.sharding)\n",
        "print(initialized_state['params']['x_max_history'].value.sharding)\n",
        "print(initialized_state['params']['w_max_history'].value.sharding)"
      ],
      "metadata": {
        "colab": {
          "base_uri": "https://localhost:8080/"
        },
        "id": "4XROVLGyQLp2",
        "outputId": "826af54a-4ff6-4fb7-b1c7-a474d43de549"
      },
      "execution_count": 8,
      "outputs": [
        {
          "output_type": "stream",
          "name": "stdout",
          "text": [
            "GSPMDSharding({devices=[1,2,4]0,2,4,6,1,3,5,7 last_tile_dim_replicate})\n",
            "GSPMDSharding({replicated})\n",
            "GSPMDSharding({replicated})\n"
          ]
        }
      ]
    },
    {
      "cell_type": "code",
      "source": [
        "def infer_step(state, x):\n",
        "  y, x_max, w_max = model.apply({'params': state['params']}, x)\n",
        "  # Update the initialized_state['params']['x_max_history'] with x_max.\n",
        "  # Update the initialized_state['params']['w_max_history'] with w_max.\n",
        "  return y, x_max, w_max\n",
        "\n",
        "pjit_step_fn = pjit(infer_step,\n",
        "                    in_axis_resources=(logical_state_spec, PartitionSpec('data', None)),  # params and x\n",
        "                    out_axis_resources=(PartitionSpec('data', 'model'), PartitionSpec(None), PartitionSpec(None))  # y and max\n",
        "                    )\n",
        "with mesh:\n",
        "  y, x_max, w_max = pjit_step_fn(initialized_state, x)\n",
        "print('y sharding:')\n",
        "jax.debug.visualize_array_sharding(y)\n",
        "print('x_max sharding:')\n",
        "jax.debug.visualize_array_sharding(x_max)\n",
        "print('w_max sharding:')\n",
        "jax.debug.visualize_array_sharding(w_max)"
      ],
      "metadata": {
        "colab": {
          "base_uri": "https://localhost:8080/",
          "height": 628
        },
        "id": "XJwwSZbdQOgx",
        "outputId": "9bf9a778-888a-40ee-f39f-c2631ca2eb56"
      },
      "execution_count": 9,
      "outputs": [
        {
          "output_type": "stream",
          "name": "stdout",
          "text": [
            "y sharding:\n"
          ]
        },
        {
          "output_type": "display_data",
          "data": {
            "text/plain": [
              "\u001b[38;2;255;255;255;48;2;57;59;121m            \u001b[0m\u001b[38;2;255;255;255;48;2;214;97;107m            \u001b[0m\n",
              "\u001b[38;2;255;255;255;48;2;57;59;121m   \u001b[0m\u001b[38;2;255;255;255;48;2;57;59;121mCPU 0\u001b[0m\u001b[38;2;255;255;255;48;2;57;59;121m    \u001b[0m\u001b[38;2;255;255;255;48;2;214;97;107m   \u001b[0m\u001b[38;2;255;255;255;48;2;214;97;107mCPU 1\u001b[0m\u001b[38;2;255;255;255;48;2;214;97;107m    \u001b[0m\n",
              "\u001b[38;2;255;255;255;48;2;57;59;121m            \u001b[0m\u001b[38;2;255;255;255;48;2;214;97;107m            \u001b[0m\n",
              "\u001b[38;2;255;255;255;48;2;140;162;82m            \u001b[0m\u001b[38;2;255;255;255;48;2;222;158;214m            \u001b[0m\n",
              "\u001b[38;2;255;255;255;48;2;140;162;82m   \u001b[0m\u001b[38;2;255;255;255;48;2;140;162;82mCPU 2\u001b[0m\u001b[38;2;255;255;255;48;2;140;162;82m    \u001b[0m\u001b[38;2;255;255;255;48;2;222;158;214m   \u001b[0m\u001b[38;2;255;255;255;48;2;222;158;214mCPU 3\u001b[0m\u001b[38;2;255;255;255;48;2;222;158;214m    \u001b[0m\n",
              "\u001b[38;2;255;255;255;48;2;140;162;82m            \u001b[0m\u001b[38;2;255;255;255;48;2;222;158;214m            \u001b[0m\n",
              "\u001b[38;2;0;0;0;48;2;231;203;148m            \u001b[0m\u001b[38;2;255;255;255;48;2;107;110;207m            \u001b[0m\n",
              "\u001b[38;2;0;0;0;48;2;231;203;148m   \u001b[0m\u001b[38;2;0;0;0;48;2;231;203;148mCPU 4\u001b[0m\u001b[38;2;0;0;0;48;2;231;203;148m    \u001b[0m\u001b[38;2;255;255;255;48;2;107;110;207m   \u001b[0m\u001b[38;2;255;255;255;48;2;107;110;207mCPU 5\u001b[0m\u001b[38;2;255;255;255;48;2;107;110;207m    \u001b[0m\n",
              "\u001b[38;2;0;0;0;48;2;231;203;148m            \u001b[0m\u001b[38;2;255;255;255;48;2;107;110;207m            \u001b[0m\n",
              "\u001b[38;2;255;255;255;48;2;165;81;148m            \u001b[0m\u001b[38;2;255;255;255;48;2;140;109;49m            \u001b[0m\n",
              "\u001b[38;2;255;255;255;48;2;165;81;148m   \u001b[0m\u001b[38;2;255;255;255;48;2;165;81;148mCPU 6\u001b[0m\u001b[38;2;255;255;255;48;2;165;81;148m    \u001b[0m\u001b[38;2;255;255;255;48;2;140;109;49m   \u001b[0m\u001b[38;2;255;255;255;48;2;140;109;49mCPU 7\u001b[0m\u001b[38;2;255;255;255;48;2;140;109;49m    \u001b[0m\n",
              "\u001b[38;2;255;255;255;48;2;165;81;148m            \u001b[0m\u001b[38;2;255;255;255;48;2;140;109;49m            \u001b[0m\n"
            ],
            "text/html": [
              "<pre style=\"white-space:pre;overflow-x:auto;line-height:normal;font-family:Menlo,'DejaVu Sans Mono',consolas,'Courier New',monospace\"><span style=\"color: #ffffff; text-decoration-color: #ffffff; background-color: #393b79\">            </span><span style=\"color: #ffffff; text-decoration-color: #ffffff; background-color: #d6616b\">            </span>\n",
              "<span style=\"color: #ffffff; text-decoration-color: #ffffff; background-color: #393b79\">   CPU 0    </span><span style=\"color: #ffffff; text-decoration-color: #ffffff; background-color: #d6616b\">   CPU 1    </span>\n",
              "<span style=\"color: #ffffff; text-decoration-color: #ffffff; background-color: #393b79\">            </span><span style=\"color: #ffffff; text-decoration-color: #ffffff; background-color: #d6616b\">            </span>\n",
              "<span style=\"color: #ffffff; text-decoration-color: #ffffff; background-color: #8ca252\">            </span><span style=\"color: #ffffff; text-decoration-color: #ffffff; background-color: #de9ed6\">            </span>\n",
              "<span style=\"color: #ffffff; text-decoration-color: #ffffff; background-color: #8ca252\">   CPU 2    </span><span style=\"color: #ffffff; text-decoration-color: #ffffff; background-color: #de9ed6\">   CPU 3    </span>\n",
              "<span style=\"color: #ffffff; text-decoration-color: #ffffff; background-color: #8ca252\">            </span><span style=\"color: #ffffff; text-decoration-color: #ffffff; background-color: #de9ed6\">            </span>\n",
              "<span style=\"color: #000000; text-decoration-color: #000000; background-color: #e7cb94\">            </span><span style=\"color: #ffffff; text-decoration-color: #ffffff; background-color: #6b6ecf\">            </span>\n",
              "<span style=\"color: #000000; text-decoration-color: #000000; background-color: #e7cb94\">   CPU 4    </span><span style=\"color: #ffffff; text-decoration-color: #ffffff; background-color: #6b6ecf\">   CPU 5    </span>\n",
              "<span style=\"color: #000000; text-decoration-color: #000000; background-color: #e7cb94\">            </span><span style=\"color: #ffffff; text-decoration-color: #ffffff; background-color: #6b6ecf\">            </span>\n",
              "<span style=\"color: #ffffff; text-decoration-color: #ffffff; background-color: #a55194\">            </span><span style=\"color: #ffffff; text-decoration-color: #ffffff; background-color: #8c6d31\">            </span>\n",
              "<span style=\"color: #ffffff; text-decoration-color: #ffffff; background-color: #a55194\">   CPU 6    </span><span style=\"color: #ffffff; text-decoration-color: #ffffff; background-color: #8c6d31\">   CPU 7    </span>\n",
              "<span style=\"color: #ffffff; text-decoration-color: #ffffff; background-color: #a55194\">            </span><span style=\"color: #ffffff; text-decoration-color: #ffffff; background-color: #8c6d31\">            </span>\n",
              "</pre>\n"
            ]
          },
          "metadata": {}
        },
        {
          "output_type": "stream",
          "name": "stdout",
          "text": [
            "x_max sharding:\n"
          ]
        },
        {
          "output_type": "display_data",
          "data": {
            "text/plain": [
              "\u001b[38;2;255;255;255;48;2;57;59;121m                         \u001b[0m\n",
              "\u001b[38;2;255;255;255;48;2;57;59;121m                         \u001b[0m\n",
              "\u001b[38;2;255;255;255;48;2;57;59;121m                         \u001b[0m\n",
              "\u001b[38;2;255;255;255;48;2;57;59;121m                         \u001b[0m\n",
              "\u001b[38;2;255;255;255;48;2;57;59;121m                         \u001b[0m\n",
              "\u001b[38;2;255;255;255;48;2;57;59;121m   \u001b[0m\u001b[38;2;255;255;255;48;2;57;59;121mCPU 0,1,2,3,4,5,6,7\u001b[0m\u001b[38;2;255;255;255;48;2;57;59;121m   \u001b[0m\n",
              "\u001b[38;2;255;255;255;48;2;57;59;121m                         \u001b[0m\n",
              "\u001b[38;2;255;255;255;48;2;57;59;121m                         \u001b[0m\n",
              "\u001b[38;2;255;255;255;48;2;57;59;121m                         \u001b[0m\n",
              "\u001b[38;2;255;255;255;48;2;57;59;121m                         \u001b[0m\n",
              "\u001b[38;2;255;255;255;48;2;57;59;121m                         \u001b[0m\n"
            ],
            "text/html": [
              "<pre style=\"white-space:pre;overflow-x:auto;line-height:normal;font-family:Menlo,'DejaVu Sans Mono',consolas,'Courier New',monospace\"><span style=\"color: #ffffff; text-decoration-color: #ffffff; background-color: #393b79\">                         </span>\n",
              "<span style=\"color: #ffffff; text-decoration-color: #ffffff; background-color: #393b79\">                         </span>\n",
              "<span style=\"color: #ffffff; text-decoration-color: #ffffff; background-color: #393b79\">                         </span>\n",
              "<span style=\"color: #ffffff; text-decoration-color: #ffffff; background-color: #393b79\">                         </span>\n",
              "<span style=\"color: #ffffff; text-decoration-color: #ffffff; background-color: #393b79\">                         </span>\n",
              "<span style=\"color: #ffffff; text-decoration-color: #ffffff; background-color: #393b79\">   CPU 0,1,2,3,4,5,6,7   </span>\n",
              "<span style=\"color: #ffffff; text-decoration-color: #ffffff; background-color: #393b79\">                         </span>\n",
              "<span style=\"color: #ffffff; text-decoration-color: #ffffff; background-color: #393b79\">                         </span>\n",
              "<span style=\"color: #ffffff; text-decoration-color: #ffffff; background-color: #393b79\">                         </span>\n",
              "<span style=\"color: #ffffff; text-decoration-color: #ffffff; background-color: #393b79\">                         </span>\n",
              "<span style=\"color: #ffffff; text-decoration-color: #ffffff; background-color: #393b79\">                         </span>\n",
              "</pre>\n"
            ]
          },
          "metadata": {}
        },
        {
          "output_type": "stream",
          "name": "stdout",
          "text": [
            "w_max sharding:\n"
          ]
        },
        {
          "output_type": "display_data",
          "data": {
            "text/plain": [
              "\u001b[38;2;255;255;255;48;2;57;59;121m                         \u001b[0m\n",
              "\u001b[38;2;255;255;255;48;2;57;59;121m                         \u001b[0m\n",
              "\u001b[38;2;255;255;255;48;2;57;59;121m                         \u001b[0m\n",
              "\u001b[38;2;255;255;255;48;2;57;59;121m                         \u001b[0m\n",
              "\u001b[38;2;255;255;255;48;2;57;59;121m                         \u001b[0m\n",
              "\u001b[38;2;255;255;255;48;2;57;59;121m   \u001b[0m\u001b[38;2;255;255;255;48;2;57;59;121mCPU 0,1,2,3,4,5,6,7\u001b[0m\u001b[38;2;255;255;255;48;2;57;59;121m   \u001b[0m\n",
              "\u001b[38;2;255;255;255;48;2;57;59;121m                         \u001b[0m\n",
              "\u001b[38;2;255;255;255;48;2;57;59;121m                         \u001b[0m\n",
              "\u001b[38;2;255;255;255;48;2;57;59;121m                         \u001b[0m\n",
              "\u001b[38;2;255;255;255;48;2;57;59;121m                         \u001b[0m\n",
              "\u001b[38;2;255;255;255;48;2;57;59;121m                         \u001b[0m\n"
            ],
            "text/html": [
              "<pre style=\"white-space:pre;overflow-x:auto;line-height:normal;font-family:Menlo,'DejaVu Sans Mono',consolas,'Courier New',monospace\"><span style=\"color: #ffffff; text-decoration-color: #ffffff; background-color: #393b79\">                         </span>\n",
              "<span style=\"color: #ffffff; text-decoration-color: #ffffff; background-color: #393b79\">                         </span>\n",
              "<span style=\"color: #ffffff; text-decoration-color: #ffffff; background-color: #393b79\">                         </span>\n",
              "<span style=\"color: #ffffff; text-decoration-color: #ffffff; background-color: #393b79\">                         </span>\n",
              "<span style=\"color: #ffffff; text-decoration-color: #ffffff; background-color: #393b79\">                         </span>\n",
              "<span style=\"color: #ffffff; text-decoration-color: #ffffff; background-color: #393b79\">   CPU 0,1,2,3,4,5,6,7   </span>\n",
              "<span style=\"color: #ffffff; text-decoration-color: #ffffff; background-color: #393b79\">                         </span>\n",
              "<span style=\"color: #ffffff; text-decoration-color: #ffffff; background-color: #393b79\">                         </span>\n",
              "<span style=\"color: #ffffff; text-decoration-color: #ffffff; background-color: #393b79\">                         </span>\n",
              "<span style=\"color: #ffffff; text-decoration-color: #ffffff; background-color: #393b79\">                         </span>\n",
              "<span style=\"color: #ffffff; text-decoration-color: #ffffff; background-color: #393b79\">                         </span>\n",
              "</pre>\n"
            ]
          },
          "metadata": {}
        }
      ]
    },
    {
      "cell_type": "code",
      "source": [
        "with mesh:\n",
        "  lowered = pjit_step_fn.lower(initialized_state, x)\n",
        "compiled = lowered.compile().compiler_ir()"
      ],
      "metadata": {
        "id": "7XiGLvKZRD5l"
      },
      "execution_count": 10,
      "outputs": []
    },
    {
      "cell_type": "code",
      "source": [
        "for module in compiled:\n",
        "  print(module.to_string())"
      ],
      "metadata": {
        "colab": {
          "base_uri": "https://localhost:8080/"
        },
        "id": "Y9BKqmAXRFU-",
        "outputId": "ec4e407e-25cd-4828-d467-815cf2dc6a81"
      },
      "execution_count": 11,
      "outputs": [
        {
          "output_type": "stream",
          "name": "stdout",
          "text": [
            "HloModule pjit_infer_step, entry_computation_layout={(f32[8192,4096]{1,0},f32[2048,8192]{1,0})->(f32[2048,4096]{1,0}, f32[1,1]{1,0}, f32[1,1]{1,0})}, allow_spmd_sharding_propagation_to_output={false,false,false}\n",
            "\n",
            "%region_0.5 (Arg_0.6: f32[], Arg_1.7: f32[]) -> f32[] {\n",
            "  %Arg_0.6 = f32[] parameter(0)\n",
            "  %Arg_1.7 = f32[] parameter(1)\n",
            "  ROOT %maximum.8 = f32[] maximum(f32[] %Arg_0.6, f32[] %Arg_1.7), metadata={op_name=\"pjit(infer_step)/jit(main)/SuperDot/reduce_max[axes=(0, 1)]\" source_file=\"<ipython-input-3-7f4f0c7fea61>\" source_line=20}\n",
            "}\n",
            "\n",
            "%region_1.11 (Arg_0.12: f32[], Arg_1.13: f32[]) -> f32[] {\n",
            "  %Arg_0.12 = f32[] parameter(0)\n",
            "  %Arg_1.13 = f32[] parameter(1)\n",
            "  ROOT %maximum.14 = f32[] maximum(f32[] %Arg_0.12, f32[] %Arg_1.13), metadata={op_name=\"pjit(infer_step)/jit(main)/SuperDot/reduce_max[axes=(0, 1)]\" source_file=\"<ipython-input-3-7f4f0c7fea61>\" source_line=20}\n",
            "}\n",
            "\n",
            "ENTRY %main.21_spmd (param.1: f32[8192,4096], param: f32[2048,8192]) -> (f32[2048,4096], f32[1,1], f32[1,1]) {\n",
            "  %param = f32[2048,8192]{1,0} parameter(1), sharding={devices=[4,1,2]0,1,2,3,4,5,6,7 last_tile_dim_replicate}\n",
            "  %param.1 = f32[8192,4096]{1,0} parameter(0), sharding={devices=[1,2,4]0,2,4,6,1,3,5,7 last_tile_dim_replicate}\n",
            "  %dot = f32[2048,4096]{1,0} dot(f32[2048,8192]{1,0} %param, f32[8192,4096]{1,0} %param.1), lhs_contracting_dims={1}, rhs_contracting_dims={0}, metadata={op_name=\"pjit(infer_step)/jit(main)/SuperDot/dot_general[dimension_numbers=(((1,), (0,)), ((), ())) precision=None preferred_element_type=None]\" source_file=\"<ipython-input-3-7f4f0c7fea61>\" source_line=19}\n",
            "  %constant.1 = f32[] constant(-inf)\n",
            "  %reduce-window = f32[64,256]{1,0} reduce-window(f32[2048,8192]{1,0} %param, f32[] %constant.1), window={size=32x32 stride=32x32}, to_apply=%region_0.5\n",
            "  %reduce-window.2 = f32[2,8]{1,0} reduce-window(f32[64,256]{1,0} %reduce-window, f32[] %constant.1), window={size=32x32 stride=32x32}, to_apply=%region_0.5\n",
            "  %reduce = f32[] reduce(f32[2,8]{1,0} %reduce-window.2, f32[] %constant.1), dimensions={0,1}, to_apply=%region_0.5, metadata={op_name=\"pjit(infer_step)/jit(main)/SuperDot/reduce_max[axes=(0, 1)]\" source_file=\"<ipython-input-3-7f4f0c7fea61>\" source_line=20}\n",
            "  %all-reduce = f32[] all-reduce(f32[] %reduce), channel_id=1, replica_groups={{0,2,4,6},{1,3,5,7}}, use_global_device_ids=true, to_apply=%region_0.5, metadata={op_name=\"pjit(infer_step)/jit(main)/SuperDot/reduce_max[axes=(0, 1)]\" source_file=\"<ipython-input-3-7f4f0c7fea61>\" source_line=20}\n",
            "  %bitcast = f32[1,1]{1,0} bitcast(f32[] %all-reduce), metadata={op_name=\"pjit(infer_step)/jit(main)/SuperDot/broadcast_in_dim[shape=(1, 1) broadcast_dimensions=()]\" source_file=\"<ipython-input-3-7f4f0c7fea61>\" source_line=20}\n",
            "  %reduce-window.1 = f32[256,128]{1,0} reduce-window(f32[8192,4096]{1,0} %param.1, f32[] %constant.1), window={size=32x32 stride=32x32}, to_apply=%region_1.11\n",
            "  %reduce-window.3 = f32[8,4]{1,0} reduce-window(f32[256,128]{1,0} %reduce-window.1, f32[] %constant.1), window={size=32x32 stride=32x32}, to_apply=%region_1.11\n",
            "  %reduce.1 = f32[] reduce(f32[8,4]{1,0} %reduce-window.3, f32[] %constant.1), dimensions={0,1}, to_apply=%region_1.11, metadata={op_name=\"pjit(infer_step)/jit(main)/SuperDot/reduce_max[axes=(0, 1)]\" source_file=\"<ipython-input-3-7f4f0c7fea61>\" source_line=20}\n",
            "  %all-reduce.1 = f32[] all-reduce(f32[] %reduce.1), channel_id=2, replica_groups={{0,1},{2,3},{4,5},{6,7}}, use_global_device_ids=true, to_apply=%region_1.11, metadata={op_name=\"pjit(infer_step)/jit(main)/SuperDot/reduce_max[axes=(0, 1)]\" source_file=\"<ipython-input-3-7f4f0c7fea61>\" source_line=20}\n",
            "  %bitcast.1 = f32[1,1]{1,0} bitcast(f32[] %all-reduce.1), metadata={op_name=\"pjit(infer_step)/jit(main)/SuperDot/broadcast_in_dim[shape=(1, 1) broadcast_dimensions=()]\" source_file=\"<ipython-input-3-7f4f0c7fea61>\" source_line=20}\n",
            "  ROOT %tuple = (f32[2048,4096]{1,0}, f32[1,1]{1,0}, f32[1,1]{1,0}) tuple(f32[2048,4096]{1,0} %dot, f32[1,1]{1,0} %bitcast, f32[1,1]{1,0} %bitcast.1)\n",
            "}\n",
            "\n",
            "\n"
          ]
        }
      ]
    }
  ]
}